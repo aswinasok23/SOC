{
 "cells": [
  {
   "cell_type": "code",
   "execution_count": 13,
   "id": "63208b74-3dd1-4146-8493-072f695c4f41",
   "metadata": {},
   "outputs": [
    {
     "name": "stdout",
     "output_type": "stream",
     "text": [
      "     Country  Year     Status  Life expectancy  Adult Mortality  \\\n",
      "0  Australia  2015  Developed             82.8             59.0   \n",
      "1  Australia  2014  Developed             82.7              6.0   \n",
      "2  Australia  2013  Developed             82.5             61.0   \n",
      "3  Australia  2012  Developed             82.3             61.0   \n",
      "4  Australia  2011  Developed             82.0             63.0   \n",
      "\n",
      "   infant deaths  Alcohol  percentage expenditure  Hepatitis B  Measles  ...  \\\n",
      "0              1      NaN                 0.00000         93.0       74  ...   \n",
      "1              1     9.71             10769.36305         91.0      340  ...   \n",
      "2              1     9.87             11734.85381         91.0      158  ...   \n",
      "3              1    10.03             11714.99858         91.0      199  ...   \n",
      "4              1    10.30             10986.26527         92.0      190  ...   \n",
      "\n",
      "   Polio  Total expenditure  Diphtheria  HIV/AIDS          GDP  Population  \\\n",
      "0   93.0                NaN        93.0       0.1  56554.38760  23789338.0   \n",
      "1   92.0               9.42        92.0       0.1  62214.69120   2346694.0   \n",
      "2   91.0               9.36        91.0       0.1  67792.33860  23117353.0   \n",
      "3   92.0               9.36        92.0       0.1  67677.63477  22728254.0   \n",
      "4   92.0               9.20        92.0       0.1  62245.12900    223424.0   \n",
      "\n",
      "   thinness  1-19 years  thinness 5-9 years  Income composition of resources  \\\n",
      "0                   0.6                 0.6                            0.937   \n",
      "1                   0.6                 0.6                            0.936   \n",
      "2                   0.6                 0.6                            0.933   \n",
      "3                   0.6                 0.6                            0.930   \n",
      "4                   0.6                 0.6                            0.927   \n",
      "\n",
      "   Schooling  \n",
      "0       20.4  \n",
      "1       20.4  \n",
      "2       20.3  \n",
      "3       20.1  \n",
      "4       19.8  \n",
      "\n",
      "[5 rows x 22 columns]\n"
     ]
    },
    {
     "data": {
      "text/plain": [
       "(2938, 22)"
      ]
     },
     "execution_count": 13,
     "metadata": {},
     "output_type": "execute_result"
    }
   ],
   "source": [
    "import pandas as pd\n",
    "import numpy as np\n",
    "from sklearn.preprocessing import StandardScaler\n",
    "from sklearn.model_selection import train_test_split\n",
    "data = pd.read_csv(r'C:\\Users\\asokk\\Downloads\\LifeExpectancyDataset - Sheet1.csv')\n",
    "print(data.head())\n",
    "data.shape"
   ]
  },
  {
   "cell_type": "code",
   "execution_count": 14,
   "id": "8d4c82d4-71f4-4838-af67-ad518c9a81af",
   "metadata": {},
   "outputs": [],
   "source": [
    "#Drop empty cells\n",
    "data.dropna(inplace=True)\n",
    "\n",
    "#Target and Features\n",
    "target = 'Life expectancy'\n",
    "features = [\n",
    "    'Adult Mortality', 'infant deaths', 'Alcohol', 'percentage expenditure', \n",
    "    'Hepatitis B', 'Measles', 'BMI', 'under-five deaths', 'Polio', \n",
    "    'Total expenditure', 'Diphtheria', 'HIV/AIDS', 'GDP', 'Population', \n",
    "    'thinness  1-19 years', 'thinness 5-9 years', \n",
    "    'Income composition of resources', 'Schooling'\n",
    "]\n",
    "\n",
    "x = data[features].values\n",
    "y = data[target].values"
   ]
  },
  {
   "cell_type": "code",
   "execution_count": 15,
   "id": "2e7d327a-c89e-4951-8544-ddb8972ca43f",
   "metadata": {},
   "outputs": [],
   "source": [
    "#Normalization\n",
    "scaler = StandardScaler()\n",
    "x_normalized = scaler.fit_transform(x)"
   ]
  },
  {
   "cell_type": "code",
   "execution_count": 16,
   "id": "a4ea4735-19a1-4de0-9fdc-74848c37c20c",
   "metadata": {},
   "outputs": [],
   "source": [
    "#Splitting\n",
    "x_train, x_test, y_train, y_test = train_test_split(x_normalized, y, test_size = 0.2, random_state = 42)"
   ]
  },
  {
   "cell_type": "code",
   "execution_count": 17,
   "id": "d603ac7b-5d80-446d-8f1c-8b6302481dc2",
   "metadata": {},
   "outputs": [],
   "source": [
    "#Intercept\n",
    "x_train = np.hstack([np.ones((x_train.shape[0], 1)), x_train])\n",
    "x_test = np.hstack([np.ones((x_test.shape[0], 1)), x_test])"
   ]
  },
  {
   "cell_type": "code",
   "execution_count": 18,
   "id": "07dbbd2c-1150-41e5-95b1-bbc2c3722752",
   "metadata": {},
   "outputs": [],
   "source": [
    "#Initialize weights\n",
    "weights = np.zeros(x_train.shape[1])"
   ]
  },
  {
   "cell_type": "code",
   "execution_count": 19,
   "id": "a32cdd33-b95d-4267-ba3e-c40c17001783",
   "metadata": {},
   "outputs": [],
   "source": [
    "#Learning rate\n",
    "learning_rate = 0.01\n",
    "iterations = 1000"
   ]
  },
  {
   "cell_type": "code",
   "execution_count": 20,
   "id": "81e57316-26b8-41d9-9cd0-d2b27748ba9b",
   "metadata": {},
   "outputs": [
    {
     "name": "stdout",
     "output_type": "stream",
     "text": [
      "Learned weights [ 6.93235809e+01 -2.19882623e+00  1.46082256e-01 -5.05974462e-01\n",
      "  5.42847893e-01 -1.26049548e-01  1.89805991e-01  6.22181468e-01\n",
      " -5.59497181e-01  2.40929578e-01  2.58909617e-01  4.84348697e-01\n",
      " -2.63147149e+00  2.47656853e-01  4.44816879e-02 -2.02296816e-01\n",
      " -5.10069849e-02  2.01038412e+00  2.36664461e+00]\n",
      "Mean Squared Error: 13.314406490938895\n",
      "Root Mean Squared Error: 3.6488911316917765\n",
      "R-squared : 0.8368009199018173\n"
     ]
    }
   ],
   "source": [
    "#GD alg\n",
    "for i in range(iterations):\n",
    "    y_pred = np.dot(x_train, weights) #value prediction\n",
    "    error = y_pred - y_train #error computation\n",
    "    #update weight\n",
    "    gradient = np.dot(x_train.T, error) / y_train.size\n",
    "    weights -= learning_rate * gradient\n",
    "\n",
    "#Print the weights\n",
    "print ('Learned weights', weights)\n",
    "\n",
    "#Predict values for test set\n",
    "y_pred_test = np.dot(x_test, weights)\n",
    "\n",
    "#Compute MSE & RMSE\n",
    "mse = np.mean((y_pred_test - y_test) ** 2)\n",
    "print(f\"Mean Squared Error: {mse}\")\n",
    "rmse = np.sqrt(mse)\n",
    "print(f\"Root Mean Squared Error: {rmse}\")\n",
    "\n",
    "#Compute R square value\n",
    "ss_total = np.sum((y_test - np.mean(y_test)) ** 2)\n",
    "ss_residual = np.sum((y_test - y_pred_test) ** 2)\n",
    "r_squared = 1 - (ss_residual / ss_total)\n",
    "print (f\"R-squared : {r_squared}\")\n"
   ]
  }
 ],
 "metadata": {
  "kernelspec": {
   "display_name": "Python 3 (ipykernel)",
   "language": "python",
   "name": "python3"
  },
  "language_info": {
   "codemirror_mode": {
    "name": "ipython",
    "version": 3
   },
   "file_extension": ".py",
   "mimetype": "text/x-python",
   "name": "python",
   "nbconvert_exporter": "python",
   "pygments_lexer": "ipython3",
   "version": "3.11.7"
  }
 },
 "nbformat": 4,
 "nbformat_minor": 5
}
