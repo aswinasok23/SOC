{
 "cells": [
  {
   "cell_type": "code",
   "execution_count": 3,
   "id": "c02648da-e6af-4478-9836-6fd2eeb2d942",
   "metadata": {},
   "outputs": [],
   "source": [
    "import numpy as np\n",
    "import pandas as pd\n",
    "from sklearn.preprocessing import StandardScaler\n",
    "\n",
    "# Load the dataset\n",
    "file_path = r'C:/Users/asokk/Downloads/framingham.csv'  # Replace with the correct file path\n",
    "df = pd.read_csv(file_path)"
   ]
  },
  {
   "cell_type": "code",
   "execution_count": 4,
   "id": "b22c90aa-da41-4da3-9509-06012d6ad0ab",
   "metadata": {},
   "outputs": [],
   "source": [
    "# Drop rows with NA values\n",
    "df_clean = df.dropna()"
   ]
  },
  {
   "cell_type": "code",
   "execution_count": 5,
   "id": "aa1e7076-174e-48d7-a001-822c4f225c0a",
   "metadata": {},
   "outputs": [],
   "source": [
    "# Verify that there are no more NA values\n",
    "assert not df_clean.isnull().values.any(), \"There are still missing values in the dataset.\""
   ]
  },
  {
   "cell_type": "code",
   "execution_count": 7,
   "id": "2a033b31-bcfb-48e3-85b2-7c69c9c3f278",
   "metadata": {},
   "outputs": [],
   "source": [
    "# Define the feature matrix X and the target vector y\n",
    "X = df_clean.drop(columns=['TenYearCHD']).values\n",
    "y = df_clean['TenYearCHD'].values"
   ]
  },
  {
   "cell_type": "code",
   "execution_count": 8,
   "id": "6905cc60-464b-454c-9b96-c00632f7f5cd",
   "metadata": {},
   "outputs": [],
   "source": [
    "# Feature scaling\n",
    "scaler = StandardScaler()\n",
    "X_scaled = scaler.fit_transform(X)"
   ]
  },
  {
   "cell_type": "code",
   "execution_count": 9,
   "id": "37878d52-ef8e-4294-aeb0-8d809c4423e7",
   "metadata": {},
   "outputs": [],
   "source": [
    "# Add intercept term to the feature matrix X_scaled\n",
    "X_scaled = np.insert(X_scaled, 0, 1, axis=1)\n",
    "\n",
    "class LogisticRegressionNumpy:\n",
    "    def __init__(self, learning_rate=0.001, num_iterations=10000):\n",
    "        self.learning_rate = learning_rate\n",
    "        self.num_iterations = num_iterations\n",
    "    \n",
    "    def sigmoid(self, z):\n",
    "        return 1 / (1 + np.exp(-z))\n",
    "    \n",
    "    def fit(self, X, y):\n",
    "        self.m, self.n = X.shape\n",
    "        self.theta = np.zeros(self.n)\n",
    "        \n",
    "        for i in range(self.num_iterations):\n",
    "            z = np.dot(X, self.theta)\n",
    "            h = self.sigmoid(z)\n",
    "            gradient = np.dot(X.T, (h - y)) / self.m\n",
    "            self.theta -= self.learning_rate * gradient\n",
    "    \n",
    "    def predict(self, X):\n",
    "        z = np.dot(X, self.theta)\n",
    "        h = self.sigmoid(z)\n",
    "        return (h >= 0.5).astype(int)"
   ]
  },
  {
   "cell_type": "code",
   "execution_count": 11,
   "id": "88df7e1f-0a57-4735-ae89-4342adff7e75",
   "metadata": {},
   "outputs": [
    {
     "name": "stdout",
     "output_type": "stream",
     "text": [
      "Model Accuracy: 0.8533916849015317\n",
      "Model Accuracy: 85.34%\n",
      "Percentage of False Negatives: 93.36%\n",
      "Percentage of False Positives: 0.52%\n"
     ]
    }
   ],
   "source": [
    "# Instantiate the model\n",
    "model = LogisticRegressionNumpy(learning_rate=0.001, num_iterations=10000)\n",
    "\n",
    "# Train the model\n",
    "model.fit(X_scaled, y)\n",
    "\n",
    "# Make predictions\n",
    "predictions = model.predict(X_scaled)\n",
    "\n",
    "# Calculate accuracy\n",
    "accuracy = np.mean(predictions == y)\n",
    "print(\"Model Accuracy:\", accuracy)\n",
    "\n",
    "# Calculate false negatives and false positives\n",
    "false_negatives = np.sum((predictions == 0) & (y == 1))\n",
    "false_positives = np.sum((predictions == 1) & (y == 0))\n",
    "true_positives = np.sum(y == 1)\n",
    "true_negatives = np.sum(y == 0)\n",
    "\n",
    "# Calculate percentages\n",
    "percentage_false_negatives = false_negatives / true_positives * 100\n",
    "percentage_false_positives = false_positives / true_negatives * 100\n",
    "\n",
    "# Print results\n",
    "print(f\"Model Accuracy: {accuracy * 100:.2f}%\")\n",
    "print(f\"Percentage of False Negatives: {percentage_false_negatives:.2f}%\")\n",
    "print(f\"Percentage of False Positives: {percentage_false_positives:.2f}%\")"
   ]
  }
 ],
 "metadata": {
  "kernelspec": {
   "display_name": "Python 3 (ipykernel)",
   "language": "python",
   "name": "python3"
  },
  "language_info": {
   "codemirror_mode": {
    "name": "ipython",
    "version": 3
   },
   "file_extension": ".py",
   "mimetype": "text/x-python",
   "name": "python",
   "nbconvert_exporter": "python",
   "pygments_lexer": "ipython3",
   "version": "3.11.7"
  }
 },
 "nbformat": 4,
 "nbformat_minor": 5
}
